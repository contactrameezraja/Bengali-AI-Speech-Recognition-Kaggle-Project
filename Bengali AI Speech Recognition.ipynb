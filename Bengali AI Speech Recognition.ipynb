{
 "cells": [
  {
   "cell_type": "markdown",
   "id": "3b3e4138",
   "metadata": {
    "execution": {
     "iopub.execute_input": "2022-08-31T14:41:32.386121Z",
     "iopub.status.busy": "2022-08-31T14:41:32.385678Z",
     "iopub.status.idle": "2022-08-31T14:41:33.84764Z",
     "shell.execute_reply": "2022-08-31T14:41:33.84594Z",
     "shell.execute_reply.started": "2022-08-31T14:41:32.386036Z"
    },
    "papermill": {
     "duration": 0.006219,
     "end_time": "2023-08-10T17:56:35.484146",
     "exception": false,
     "start_time": "2023-08-10T17:56:35.477927",
     "status": "completed"
    },
    "tags": []
   },
   "source": [
    " \n",
    "\n",
    "##### This notebook is a fork of [this notebook](https://www.kaggle.com/code/mbmmurad/lb-0-506-inference-w-previous-comp-winner-s-model/notebook).\n",
    "\n",
    "\n",
    "💗This notebook has made some annotations on the original code. If it is useful to you, please click like. Thank you!💗\n"
   ]
  },
  {
   "cell_type": "code",
   "execution_count": 1,
   "id": "4e969992",
   "metadata": {
    "execution": {
     "iopub.execute_input": "2023-08-10T17:56:35.497448Z",
     "iopub.status.busy": "2023-08-10T17:56:35.496940Z",
     "iopub.status.idle": "2023-08-10T17:56:36.645508Z",
     "shell.execute_reply": "2023-08-10T17:56:36.644016Z"
    },
    "papermill": {
     "duration": 1.158239,
     "end_time": "2023-08-10T17:56:36.648212",
     "exception": false,
     "start_time": "2023-08-10T17:56:35.489973",
     "status": "completed"
    },
    "tags": []
   },
   "outputs": [],
   "source": [
    "!cp -r ../input/python-packages2 ./"
   ]
  },
  {
   "cell_type": "code",
   "execution_count": 2,
   "id": "26b4ad78",
   "metadata": {
    "execution": {
     "iopub.execute_input": "2023-08-10T17:56:36.661898Z",
     "iopub.status.busy": "2023-08-10T17:56:36.661539Z",
     "iopub.status.idle": "2023-08-10T17:58:17.580551Z",
     "shell.execute_reply": "2023-08-10T17:58:17.579292Z"
    },
    "papermill": {
     "duration": 100.928839,
     "end_time": "2023-08-10T17:58:17.583322",
     "exception": false,
     "start_time": "2023-08-10T17:56:36.654483",
     "status": "completed"
    },
    "tags": []
   },
   "outputs": [
    {
     "name": "stdout",
     "output_type": "stream",
     "text": [
      "jiwer/\r\n",
      "jiwer/jiwer-2.3.0-py3-none-any.whl\r\n",
      "jiwer/python-Levenshtein-0.12.2.tar.gz\r\n",
      "jiwer/setuptools-65.3.0-py3-none-any.whl\r\n",
      "Looking in links: ./\r\n",
      "Processing ./jiwer/jiwer-2.3.0-py3-none-any.whl\r\n",
      "INFO: pip is looking at multiple versions of jiwer to determine which version is compatible with other requirements. This could take a while.\r\n",
      "\u001b[31mERROR: Could not find a version that satisfies the requirement python-Levenshtein==0.12.2 (from jiwer) (from versions: none)\u001b[0m\u001b[31m\r\n",
      "\u001b[0m\u001b[31mERROR: No matching distribution found for python-Levenshtein==0.12.2\u001b[0m\u001b[31m\r\n",
      "\u001b[0mnormalizer/\r\n",
      "normalizer/bnunicodenormalizer-0.0.24.tar.gz\r\n",
      "Looking in links: ./\r\n",
      "Processing ./normalizer/bnunicodenormalizer-0.0.24.tar.gz\r\n",
      "  Preparing metadata (setup.py) ... \u001b[?25l-\b \b\\\b \bdone\r\n",
      "\u001b[?25hBuilding wheels for collected packages: bnunicodenormalizer\r\n",
      "  Building wheel for bnunicodenormalizer (setup.py) ... \u001b[?25l-\b \b\\\b \bdone\r\n",
      "\u001b[?25h  Created wheel for bnunicodenormalizer: filename=bnunicodenormalizer-0.0.24-py3-none-any.whl size=17628 sha256=629dfd70da9849829aece1a9269745521eec920f8a7f074bd34190e51c8a33c8\r\n",
      "  Stored in directory: /root/.cache/pip/wheels/78/d7/75/6986dc3616718f950b80e3bd79a796ef618eaef6cd800e7909\r\n",
      "Successfully built bnunicodenormalizer\r\n",
      "Installing collected packages: bnunicodenormalizer\r\n",
      "Successfully installed bnunicodenormalizer-0.0.24\r\n",
      "pyctcdecode/\r\n",
      "pyctcdecode/hypothesis-6.54.4-py3-none-any.whl\r\n",
      "pyctcdecode/sortedcontainers-2.4.0-py2.py3-none-any.whl\r\n",
      "pyctcdecode/exceptiongroup-1.0.0rc9-py3-none-any.whl\r\n",
      "pyctcdecode/pyctcdecode-0.4.0-py2.py3-none-any.whl\r\n",
      "pyctcdecode/numpy-1.21.6-cp37-cp37m-manylinux_2_12_x86_64.manylinux2010_x86_64.whl\r\n",
      "pyctcdecode/attrs-22.1.0-py2.py3-none-any.whl\r\n",
      "pyctcdecode/pygtrie-2.5.0.tar.gz\r\n",
      "Looking in links: ./\r\n",
      "Processing ./pyctcdecode/attrs-22.1.0-py2.py3-none-any.whl\r\n",
      "Installing collected packages: attrs\r\n",
      "  Attempting uninstall: attrs\r\n",
      "    Found existing installation: attrs 23.1.0\r\n",
      "    Uninstalling attrs-23.1.0:\r\n",
      "      Successfully uninstalled attrs-23.1.0\r\n",
      "Successfully installed attrs-22.1.0\r\n",
      "Looking in links: ./\r\n",
      "Processing ./pyctcdecode/exceptiongroup-1.0.0rc9-py3-none-any.whl\r\n",
      "Installing collected packages: exceptiongroup\r\n",
      "  Attempting uninstall: exceptiongroup\r\n",
      "    Found existing installation: exceptiongroup 1.1.1\r\n",
      "    Uninstalling exceptiongroup-1.1.1:\r\n",
      "      Successfully uninstalled exceptiongroup-1.1.1\r\n",
      "Successfully installed exceptiongroup-1.0.0rc9\r\n",
      "Looking in links: ./\r\n",
      "Processing ./pyctcdecode/hypothesis-6.54.4-py3-none-any.whl\r\n",
      "Installing collected packages: hypothesis\r\n",
      "Successfully installed hypothesis-6.54.4\r\n",
      "Looking in links: ./\r\n",
      "\u001b[31mERROR: numpy-1.21.6-cp37-cp37m-manylinux_2_12_x86_64.manylinux2010_x86_64.whl is not a supported wheel on this platform.\u001b[0m\u001b[31m\r\n",
      "\u001b[0mLooking in links: ./\r\n",
      "Processing ./pyctcdecode/pygtrie-2.5.0.tar.gz\r\n",
      "  Preparing metadata (setup.py) ... \u001b[?25l-\b \b\\\b \bdone\r\n",
      "\u001b[?25hBuilding wheels for collected packages: pygtrie\r\n",
      "  Building wheel for pygtrie (setup.py) ... \u001b[?25l-\b \b\\\b \bdone\r\n",
      "\u001b[?25h  Created wheel for pygtrie: filename=pygtrie-2.5.0-py3-none-any.whl size=20945 sha256=b97c2bb2819a978e5d3c57bd46730c04826b7dd629e38c5b856c7592935b3967\r\n",
      "  Stored in directory: /root/.cache/pip/wheels/78/28/09/b62c97a3e77102645c7ecc78c97580ad57090b1eee5438d6ac\r\n",
      "Successfully built pygtrie\r\n",
      "Installing collected packages: pygtrie\r\n",
      "Successfully installed pygtrie-2.5.0\r\n",
      "Looking in links: ./\r\n",
      "Processing ./pyctcdecode/sortedcontainers-2.4.0-py2.py3-none-any.whl\r\n",
      "sortedcontainers is already installed with the same version as the provided wheel. Use --force-reinstall to force an installation of the wheel.\r\n",
      "Looking in links: ./\r\n",
      "Processing ./pyctcdecode/pyctcdecode-0.4.0-py2.py3-none-any.whl\r\n",
      "Installing collected packages: pyctcdecode\r\n",
      "Successfully installed pyctcdecode-0.4.0\r\n",
      "pypikenlm/\r\n",
      "pypikenlm/pypi-kenlm-0.1.20220713.tar.gz\r\n",
      "Looking in links: ./\r\n",
      "Processing ./pypikenlm/pypi-kenlm-0.1.20220713.tar.gz\r\n",
      "  Preparing metadata (setup.py) ... \u001b[?25l-\b \b\\\b \bdone\r\n",
      "\u001b[?25hBuilding wheels for collected packages: pypi-kenlm\r\n",
      "  Building wheel for pypi-kenlm (setup.py) ... \u001b[?25l-\b \b\\\b \b|\b \b/\b \b-\b \b\\\b \b|\b \b/\b \b-\b \b\\\b \b|\b \b/\b \b-\b \b\\\b \b|\b \b/\b \b-\b \b\\\b \b|\b \b/\b \b-\b \b\\\b \b|\b \b/\b \b-\b \b\\\b \b|\b \b/\b \b-\b \b\\\b \b|\b \b/\b \b-\b \b\\\b \b|\b \b/\b \b-\b \b\\\b \b|\b \b/\b \b-\b \bdone\r\n",
      "\u001b[?25h  Created wheel for pypi-kenlm: filename=pypi_kenlm-0.1.20220713-cp310-cp310-linux_x86_64.whl size=333264 sha256=b5b1eafd1327841e35ddbca411321751159d1f793f5186caa7512cfe44c6d337\r\n",
      "  Stored in directory: /root/.cache/pip/wheels/1e/7a/db/27645fac296d5d5ba5c461b1af834eebc0ba4643290dbc5476\r\n",
      "Successfully built pypi-kenlm\r\n",
      "Installing collected packages: pypi-kenlm\r\n",
      "Successfully installed pypi-kenlm-0.1.20220713\r\n",
      "Requirement already satisfied: pyctcdecode in /opt/conda/lib/python3.10/site-packages (0.4.0)\r\n",
      "Requirement already satisfied: numpy<2.0.0,>=1.15.0 in /opt/conda/lib/python3.10/site-packages (from pyctcdecode) (1.23.5)\r\n",
      "Requirement already satisfied: pygtrie<3.0,>=2.1 in /opt/conda/lib/python3.10/site-packages (from pyctcdecode) (2.5.0)\r\n",
      "Requirement already satisfied: hypothesis<7,>=6.14 in /opt/conda/lib/python3.10/site-packages (from pyctcdecode) (6.54.4)\r\n",
      "Requirement already satisfied: attrs>=19.2.0 in /opt/conda/lib/python3.10/site-packages (from hypothesis<7,>=6.14->pyctcdecode) (22.1.0)\r\n",
      "Requirement already satisfied: sortedcontainers<3.0.0,>=2.1.0 in /opt/conda/lib/python3.10/site-packages (from hypothesis<7,>=6.14->pyctcdecode) (2.4.0)\r\n",
      "Requirement already satisfied: exceptiongroup>=1.0.0rc8 in /opt/conda/lib/python3.10/site-packages (from hypothesis<7,>=6.14->pyctcdecode) (1.0.0rc9)\r\n"
     ]
    }
   ],
   "source": [
    "!tar xvfz ./python-packages2/jiwer.tgz\n",
    "!pip install ./jiwer/jiwer-2.3.0-py3-none-any.whl -f ./ --no-index\n",
    "!tar xvfz ./python-packages2/normalizer.tgz\n",
    "!pip install ./normalizer/bnunicodenormalizer-0.0.24.tar.gz -f ./ --no-index\n",
    "!tar xvfz ./python-packages2/pyctcdecode.tgz\n",
    "!pip install ./pyctcdecode/attrs-22.1.0-py2.py3-none-any.whl -f ./ --no-index --no-deps\n",
    "!pip install ./pyctcdecode/exceptiongroup-1.0.0rc9-py3-none-any.whl -f ./ --no-index --no-deps\n",
    "!pip install ./pyctcdecode/hypothesis-6.54.4-py3-none-any.whl -f ./ --no-index --no-deps\n",
    "!pip install ./pyctcdecode/numpy-1.21.6-cp37-cp37m-manylinux_2_12_x86_64.manylinux2010_x86_64.whl -f ./ --no-index --no-deps\n",
    "!pip install ./pyctcdecode/pygtrie-2.5.0.tar.gz -f ./ --no-index --no-deps\n",
    "!pip install ./pyctcdecode/sortedcontainers-2.4.0-py2.py3-none-any.whl -f ./ --no-index --no-deps\n",
    "!pip install ./pyctcdecode/pyctcdecode-0.4.0-py2.py3-none-any.whl -f ./ --no-index --no-deps\n",
    "\n",
    "!tar xvfz ./python-packages2/pypikenlm.tgz\n",
    "!pip install ./pypikenlm/pypi-kenlm-0.1.20220713.tar.gz -f ./ --no-index --no-deps\n",
    "!pip install pyctcdecode\n"
   ]
  },
  {
   "cell_type": "code",
   "execution_count": 3,
   "id": "62d343ab",
   "metadata": {
    "execution": {
     "iopub.execute_input": "2023-08-10T17:58:17.609770Z",
     "iopub.status.busy": "2023-08-10T17:58:17.609435Z",
     "iopub.status.idle": "2023-08-10T17:58:32.846646Z",
     "shell.execute_reply": "2023-08-10T17:58:32.845656Z"
    },
    "papermill": {
     "duration": 15.253069,
     "end_time": "2023-08-10T17:58:32.849024",
     "exception": false,
     "start_time": "2023-08-10T17:58:17.595955",
     "status": "completed"
    },
    "tags": []
   },
   "outputs": [
    {
     "name": "stderr",
     "output_type": "stream",
     "text": [
      "/opt/conda/lib/python3.10/site-packages/scipy/__init__.py:146: UserWarning: A NumPy version >=1.16.5 and <1.23.0 is required for this version of SciPy (detected version 1.23.5\n",
      "  warnings.warn(f\"A NumPy version >={np_minversion} and <{np_maxversion}\"\n",
      "/opt/conda/lib/python3.10/site-packages/tensorflow_io/python/ops/__init__.py:98: UserWarning: unable to load libtensorflow_io_plugins.so: unable to open file: libtensorflow_io_plugins.so, from paths: ['/opt/conda/lib/python3.10/site-packages/tensorflow_io/python/ops/libtensorflow_io_plugins.so']\n",
      "caused by: ['/opt/conda/lib/python3.10/site-packages/tensorflow_io/python/ops/libtensorflow_io_plugins.so: undefined symbol: _ZN3tsl6StatusC1EN10tensorflow5error4CodeESt17basic_string_viewIcSt11char_traitsIcEENS_14SourceLocationE']\n",
      "  warnings.warn(f\"unable to load libtensorflow_io_plugins.so: {e}\")\n",
      "/opt/conda/lib/python3.10/site-packages/tensorflow_io/python/ops/__init__.py:104: UserWarning: file system plugins are not loaded: unable to open file: libtensorflow_io.so, from paths: ['/opt/conda/lib/python3.10/site-packages/tensorflow_io/python/ops/libtensorflow_io.so']\n",
      "caused by: ['/opt/conda/lib/python3.10/site-packages/tensorflow_io/python/ops/libtensorflow_io.so: undefined symbol: _ZTVN10tensorflow13GcsFileSystemE']\n",
      "  warnings.warn(f\"file system plugins are not loaded: {e}\")\n"
     ]
    }
   ],
   "source": [
    "import os\n",
    "import numpy as np\n",
    "from tqdm.auto import tqdm\n",
    "from glob import glob\n",
    "from transformers import AutoFeatureExtractor, pipeline\n",
    "import pandas as pd\n",
    "import librosa\n",
    "import IPython\n",
    "from datasets import load_metric\n",
    "from tqdm.auto import tqdm\n",
    "from torch.utils.data import Dataset, DataLoader\n",
    "import torch\n",
    "import gc\n",
    "import wave\n",
    "from scipy.io import wavfile\n",
    "import scipy.signal as sps\n",
    "import pyctcdecode\n",
    "\n",
    "tqdm.pandas()\n",
    "import warnings\n",
    "warnings.filterwarnings(\"ignore\")\n",
    "\n"
   ]
  },
  {
   "cell_type": "code",
   "execution_count": 4,
   "id": "585224f0",
   "metadata": {
    "execution": {
     "iopub.execute_input": "2023-08-10T17:58:32.876551Z",
     "iopub.status.busy": "2023-08-10T17:58:32.875214Z",
     "iopub.status.idle": "2023-08-10T17:58:32.880421Z",
     "shell.execute_reply": "2023-08-10T17:58:32.879404Z"
    },
    "papermill": {
     "duration": 0.020896,
     "end_time": "2023-08-10T17:58:32.882747",
     "exception": false,
     "start_time": "2023-08-10T17:58:32.861851",
     "status": "completed"
    },
    "tags": []
   },
   "outputs": [],
   "source": [
    "# CHANGE ACCORDINGLY\n",
    "BATCH_SIZE = 1\n",
    "TEST_DIRECTORY = '/kaggle/input/bengaliai-speech/test_mp3s'"
   ]
  },
  {
   "cell_type": "code",
   "execution_count": 5,
   "id": "6e2785f5",
   "metadata": {
    "execution": {
     "iopub.execute_input": "2023-08-10T17:58:32.909178Z",
     "iopub.status.busy": "2023-08-10T17:58:32.908894Z",
     "iopub.status.idle": "2023-08-10T17:58:32.913203Z",
     "shell.execute_reply": "2023-08-10T17:58:32.912164Z"
    },
    "papermill": {
     "duration": 0.019975,
     "end_time": "2023-08-10T17:58:32.915414",
     "exception": false,
     "start_time": "2023-08-10T17:58:32.895439",
     "status": "completed"
    },
    "tags": []
   },
   "outputs": [],
   "source": [
    "\n",
    "class CFG:\n",
    "    my_model_name = '../input/yellowking-dlsprint-model/YellowKing_model'\n",
    "    processor_name = '../input/yellowking-dlsprint-model/YellowKing_processor'"
   ]
  },
  {
   "cell_type": "code",
   "execution_count": 6,
   "id": "5590675a",
   "metadata": {
    "execution": {
     "iopub.execute_input": "2023-08-10T17:58:32.941095Z",
     "iopub.status.busy": "2023-08-10T17:58:32.940819Z",
     "iopub.status.idle": "2023-08-10T18:00:06.890673Z",
     "shell.execute_reply": "2023-08-10T18:00:06.889543Z"
    },
    "papermill": {
     "duration": 93.965532,
     "end_time": "2023-08-10T18:00:06.893251",
     "exception": false,
     "start_time": "2023-08-10T17:58:32.927719",
     "status": "completed"
    },
    "tags": []
   },
   "outputs": [],
   "source": [
    "from transformers import Wav2Vec2ProcessorWithLM\n",
    "\n",
    "processor = Wav2Vec2ProcessorWithLM.from_pretrained(CFG.processor_name)\n"
   ]
  },
  {
   "cell_type": "code",
   "execution_count": 7,
   "id": "8ecc0ee3",
   "metadata": {
    "execution": {
     "iopub.execute_input": "2023-08-10T18:00:06.921229Z",
     "iopub.status.busy": "2023-08-10T18:00:06.919623Z",
     "iopub.status.idle": "2023-08-10T18:00:24.809201Z",
     "shell.execute_reply": "2023-08-10T18:00:24.808238Z"
    },
    "papermill": {
     "duration": 17.905588,
     "end_time": "2023-08-10T18:00:24.811799",
     "exception": false,
     "start_time": "2023-08-10T18:00:06.906211",
     "status": "completed"
    },
    "tags": []
   },
   "outputs": [],
   "source": [
    "my_asrLM = pipeline(\"automatic-speech-recognition\", model=CFG.my_model_name ,feature_extractor =processor.feature_extractor, tokenizer= processor.tokenizer,decoder=processor.decoder ,device=0)\n"
   ]
  },
  {
   "cell_type": "markdown",
   "id": "5858e751",
   "metadata": {
    "papermill": {
     "duration": 0.012833,
     "end_time": "2023-08-10T18:00:24.837688",
     "exception": false,
     "start_time": "2023-08-10T18:00:24.824855",
     "status": "completed"
    },
    "tags": []
   },
   "source": [
    "**Following Sample Submission:**"
   ]
  },
  {
   "cell_type": "code",
   "execution_count": 8,
   "id": "f199193c",
   "metadata": {
    "execution": {
     "iopub.execute_input": "2023-08-10T18:00:24.863602Z",
     "iopub.status.busy": "2023-08-10T18:00:24.863267Z",
     "iopub.status.idle": "2023-08-10T18:00:24.872042Z",
     "shell.execute_reply": "2023-08-10T18:00:24.871205Z"
    },
    "papermill": {
     "duration": 0.024131,
     "end_time": "2023-08-10T18:00:24.873983",
     "exception": false,
     "start_time": "2023-08-10T18:00:24.849852",
     "status": "completed"
    },
    "tags": []
   },
   "outputs": [],
   "source": [
    "def infer(audio_path):\n",
    "    speech, sr = librosa.load(audio_path, sr=processor.feature_extractor.sampling_rate)\n",
    "\n",
    "    my_LM_prediction = my_asrLM(\n",
    "                speech\n",
    "            )\n",
    "\n",
    "    return my_LM_prediction['text']\n",
    "\"\"\"\n",
    "In the provided code snippet, it appears that you are trying to implement a function named `infer` that takes an audio file path as input, performs automatic speech recognition (ASR) using a pre-trained language model (LM), and returns the predicted text from the speech. However, there are a few undefined variables and functions in the code that need clarification to understand the entire process. I'll explain the code step-by-step:\n",
    "\n",
    "1. `librosa.load(audio_path, sr=processor.feature_extractor.sampling_rate)`: This line uses the librosa library to load the audio file specified by `audio_path` and returns the audio waveform `speech` and the sample rate `sr`. The `processor.feature_extractor.sampling_rate` seems to be a variable or attribute that holds the desired sampling rate for the audio.\n",
    "\n",
    "2. `my_asrLM(speech)`: It seems like `my_asrLM` is a custom function that performs automatic speech recognition using a pre-trained language model. The input to this function is the `speech`, which is the audio waveform loaded in the previous step. This function might internally use a language model specifically trained for ASR to convert the speech into text.\n",
    "\n",
    "3. `my_LM_prediction['text']`: Assuming `my_asrLM` returns a dictionary containing various information about the ASR prediction, this line retrieves the recognized text from the ASR prediction result.\n",
    "\n",
    "Based on the provided code snippet, I can't determine the specific details of the `my_asrLM` function or the `processor.feature_extractor.sampling_rate` attribute since they are not defined in the snippet. If you can provide more context or the implementation of these functions/variables, I can help you further with the ASR inference process.\n",
    "\n",
    "\"\"\";"
   ]
  },
  {
   "cell_type": "code",
   "execution_count": 9,
   "id": "25c7b1be",
   "metadata": {
    "execution": {
     "iopub.execute_input": "2023-08-10T18:00:24.900492Z",
     "iopub.status.busy": "2023-08-10T18:00:24.899768Z",
     "iopub.status.idle": "2023-08-10T18:00:24.909528Z",
     "shell.execute_reply": "2023-08-10T18:00:24.908639Z"
    },
    "papermill": {
     "duration": 0.025621,
     "end_time": "2023-08-10T18:00:24.911789",
     "exception": false,
     "start_time": "2023-08-10T18:00:24.886168",
     "status": "completed"
    },
    "tags": []
   },
   "outputs": [],
   "source": [
    "def batch_infer(audio_paths, batch_size=BATCH_SIZE):\n",
    "    '''\n",
    "    infers on a batch of audio\n",
    "    args:\n",
    "      audio_paths  : list of path to audio files <list of string>\n",
    "    returns:\n",
    "      bangla predicted texts <list of string>\n",
    "    '''\n",
    "    results = []\n",
    "    for path in audio_paths:\n",
    "        pred = \"\"\n",
    "        try:\n",
    "            pred = infer(path)\n",
    "        except:\n",
    "            pred = \"এ\"\n",
    "        if len(pred)==0:\n",
    "            pred = \"এ\"\n",
    "        results.append(pred)\n",
    "    \n",
    "    return results\n",
    "\n",
    "\"\"\"\n",
    "The provided code snippet defines a function named `batch_infer`, which performs inference on a batch of audio files using the `infer` function (assuming that the `infer` function is defined elsewhere in the code, and it processes a single audio file to obtain a predicted text). The function handles exceptions and returns the predicted texts for each audio file in the input list `audio_paths`.\n",
    "\n",
    "Let's break down the function step-by-step:\n",
    "\n",
    "1. `def batch_infer(audio_paths, batch_size=BATCH_SIZE):`: The function `batch_infer` takes two parameters: `audio_paths`, which is a list of file paths to audio files, and `batch_size` (defaulted to `BATCH_SIZE`, which should be defined elsewhere).\n",
    "\n",
    "2. `results = []`: Initializes an empty list named `results`, which will be used to store the predicted texts for each audio file.\n",
    "\n",
    "3. `for path in audio_paths:`: This loop iterates through each audio file path in the input list `audio_paths`.\n",
    "\n",
    "4. `pred = \"\"`: Initializes an empty string variable `pred`, which will be used to store the predicted text for the current audio file.\n",
    "\n",
    "5. `try:`: This block tries to execute the `infer` function with the current audio file path `path`.\n",
    "\n",
    "6. `pred = infer(path)`: Calls the `infer` function with the current audio file path `path` to get the predicted text for the audio file.\n",
    "\n",
    "7. `except:`: If an exception occurs during the execution of the `infer` function (e.g., an error or exception in the `infer` function), this block will be executed.\n",
    "\n",
    "8. `pred = \"এ\"`: In case of an exception, the variable `pred` is set to the Bengali character \"এ\".\n",
    "\n",
    "9. `if len(pred) == 0:`: This checks if the length of the predicted text `pred` is zero, which means no text was predicted for the audio file.\n",
    "\n",
    "10. `pred = \"এ\"`: If no text was predicted (i.e., the length is zero), the variable `pred` is set to the Bengali character \"এ\".\n",
    "\n",
    "11. `results.append(pred)`: The predicted text for the current audio file is added to the `results` list.\n",
    "\n",
    "12. `return results`: After processing all audio files in the `audio_paths` list, the function returns the `results` list, which contains the predicted texts for each audio file.\n",
    "\n",
    "It is important to note that the `infer` function is not defined within the provided code snippet. The `infer` function is assumed to be implemented elsewhere in the code and is responsible for processing a single audio file and returning the predicted text. The `batch_infer` function, on the other hand, handles a batch of audio files by calling the `infer` function for each audio file and collecting the results in the `results` list.\n",
    "\"\"\";"
   ]
  },
  {
   "cell_type": "code",
   "execution_count": 10,
   "id": "0fe055a7",
   "metadata": {
    "execution": {
     "iopub.execute_input": "2023-08-10T18:00:24.937722Z",
     "iopub.status.busy": "2023-08-10T18:00:24.937460Z",
     "iopub.status.idle": "2023-08-10T18:00:24.955432Z",
     "shell.execute_reply": "2023-08-10T18:00:24.954630Z"
    },
    "papermill": {
     "duration": 0.033478,
     "end_time": "2023-08-10T18:00:24.957352",
     "exception": false,
     "start_time": "2023-08-10T18:00:24.923874",
     "status": "completed"
    },
    "tags": []
   },
   "outputs": [],
   "source": [
    "from bnunicodenormalizer import Normalizer \n",
    "\n",
    "\n",
    "bnorm = Normalizer()\n",
    "def normalize(sen):\n",
    "    _words = [bnorm(word)['normalized']  for word in sen.split()]\n",
    "    return \" \".join([word for word in _words if word is not None])\n",
    "\n",
    "def dari(sentence):\n",
    "    try:\n",
    "        if sentence[-1]!=\"।\":\n",
    "            sentence+=\"।\"\n",
    "    except:\n",
    "        print(sentence)\n",
    "    return sentence\n",
    "\n",
    "\"\"\"\n",
    "The provided code snippet defines two functions, `normalize` and `dari`, that appear to be related to processing Bengali text. Let's break down each function:\n",
    "\n",
    "1. `normalize(sen)`: This function takes a Bengali sentence as input (`sen`) and returns the normalized version of the sentence. The normalization process seems to involve using the `bnunicodenormalizer` library to normalize individual words within the sentence. The function iterates through each word in the sentence, normalizes it using the `bnunicodenormalizer` library, and then joins the normalized words back into a normalized sentence. The normalized sentence will have normalized characters (e.g., combining characters) for proper rendering.\n",
    "\n",
    "   However, there's a small issue in the function. In the list comprehension used to normalize each word (`_words`), the normalization is attempted for every word, even if it contains characters that are not Bengali. The `bnunicodenormalizer` library is designed to work with Bengali text, so using it on non-Bengali characters may lead to unintended behavior or errors. If the input sentence contains non-Bengali characters, it's better to handle those cases explicitly.\n",
    "\n",
    "2. `dari(sentence)`: This function takes a Bengali sentence as input (`sentence`). It checks if the sentence ends with a Bengali full stop (U+09। - DARI). If the sentence does not end with the full stop, it appends one at the end. The purpose of this function seems to ensure that the Bengali sentence ends with the appropriate punctuation.\n",
    "\n",
    "   The function includes a `try-except` block, which is not necessary for this specific case. The code inside the `try` block simply checks the last character of the sentence. If the last character is not a full stop (DARI), it appends one. If the last character is already a full stop, no error will occur. Therefore, the `try-except` block is redundant, and the code can be simplified to just the `if` statement.\n",
    "\n",
    "It is important to note that the code relies on an external library `bnunicodenormalizer`, which is used for Bengali Unicode normalization. Ensure that you have installed this library and imported it correctly for the code to work as intended. Additionally, the code may not handle all edge cases and may need further refinement depending on the specific use case.\n",
    "\"\"\";"
   ]
  },
  {
   "cell_type": "code",
   "execution_count": 11,
   "id": "f0a8f7ec",
   "metadata": {
    "execution": {
     "iopub.execute_input": "2023-08-10T18:00:24.984442Z",
     "iopub.status.busy": "2023-08-10T18:00:24.983000Z",
     "iopub.status.idle": "2023-08-10T18:00:24.990352Z",
     "shell.execute_reply": "2023-08-10T18:00:24.989314Z"
    },
    "papermill": {
     "duration": 0.022836,
     "end_time": "2023-08-10T18:00:24.992419",
     "exception": false,
     "start_time": "2023-08-10T18:00:24.969583",
     "status": "completed"
    },
    "tags": []
   },
   "outputs": [],
   "source": [
    "def post_process_keys(str):\n",
    "    return str.replace(\"../input/test-wav-files-dl-sprint/test_files_wav/\",\"\").replace(\".wav\",\".mp3\")\n",
    "\n",
    "\"\"\"\n",
    "The function `post_process_keys(str)` appears to be a post-processing function designed to modify and clean up file paths or keys (strings) related to audio files.\n",
    "\n",
    "Let's break down the function:\n",
    "\n",
    "1. `str.replace(\"../input/test-wav-files-dl-sprint/test_files_wav/\", \"\")`: This line of code replaces the substring `../input/test-wav-files-dl-sprint/test_files_wav/` with an empty string in the input `str`. This is essentially removing the specified prefix from the string.\n",
    "\n",
    "2. `.replace(\".wav\", \".mp3\")`: After removing the prefix in the previous step, this line replaces the substring `.wav` with `.mp3` in the remaining string. This is essentially changing the file extension of the audio file from WAV to MP3.\n",
    "\n",
    "The purpose of this function seems to be converting file paths or keys of WAV audio files to corresponding MP3 file paths or keys, possibly for further processing or handling of the audio data.\n",
    "\n",
    "It is important to note that modifying file paths or keys using string replacement can be error-prone, especially if the paths are not in the exact format expected by the function. Ensure that the input `str` matches the expected format, or consider adding error handling to handle unexpected inputs more gracefully. Additionally, if this function is used in a larger codebase, it's a good practice to choose a more descriptive name for the function than `post_process_keys` to reflect its specific purpose.\n",
    "\"\"\";"
   ]
  },
  {
   "cell_type": "code",
   "execution_count": 12,
   "id": "16696440",
   "metadata": {
    "execution": {
     "iopub.execute_input": "2023-08-10T18:00:25.018083Z",
     "iopub.status.busy": "2023-08-10T18:00:25.017828Z",
     "iopub.status.idle": "2023-08-10T18:00:25.030737Z",
     "shell.execute_reply": "2023-08-10T18:00:25.029766Z"
    },
    "papermill": {
     "duration": 0.028533,
     "end_time": "2023-08-10T18:00:25.032919",
     "exception": false,
     "start_time": "2023-08-10T18:00:25.004386",
     "status": "completed"
    },
    "tags": []
   },
   "outputs": [],
   "source": [
    "def directory_infer(audio_dir):\n",
    "    '''\n",
    "    infers on a directory that contains audio files\n",
    "    args:\n",
    "      audio_dir  : directory that contains some audio files <string>\n",
    "    returns:\n",
    "      a dataframe that contains 2 columns:\n",
    "        * path <string>\n",
    "        * sentence <string>\n",
    "    '''\n",
    "    # list all audio files\n",
    "\n",
    "    audio_paths=[audio_path for audio_path in tqdm(glob(os.path.join(audio_dir,\"*.*\")))]\n",
    "    files = os.listdir(\"/kaggle/input/bengaliai-speech/test_mp3s\")\n",
    "    paths = []\n",
    "    for i in files:\n",
    "        paths.append(i.split(\".\")[0])\n",
    "    sentences=[]\n",
    "    for idx in tqdm(range(0,len(audio_paths),BATCH_SIZE)):\n",
    "        batch_paths=audio_paths[idx:idx+BATCH_SIZE]\n",
    "        sentences+=batch_infer(batch_paths)\n",
    "        \n",
    "    df= pd.DataFrame({\"id\":paths,\"sentence\":sentences})\n",
    "    df.sentence= df.sentence.apply(lambda x:normalize(x))\n",
    "    #df.sentence= df.sentence.apply(lambda x:dari(x))\n",
    "    df['id'] = df['id'].apply(lambda x: post_process_keys(x))\n",
    "    \n",
    "    return df \n",
    "\"\"\"\n",
    "The function `directory_infer(audio_dir)` performs inference on a directory that contains audio files. It processes the audio files in batches using the `batch_infer` function and returns the results as a DataFrame with two columns: \"id\" and \"sentence\".\n",
    "\n",
    "Let's break down the function step-by-step:\n",
    "\n",
    "1. `audio_paths = [audio_path for audio_path in tqdm(glob(os.path.join(audio_dir, \"*.*\")))]`: This line lists all the audio files in the specified `audio_dir` directory using the `glob` function. It filters all files with any extension (`*.*`) and stores their paths in the `audio_paths` list.\n",
    "\n",
    "2. `files = os.listdir(\"/kaggle/input/bengaliai-speech/test_mp3s\")`: This line seems to list all files in the directory \"/kaggle/input/bengaliai-speech/test_mp3s\" (hardcoded path). However, this line appears to be redundant and not directly related to the `audio_dir` parameter.\n",
    "\n",
    "3. `paths = []`: Initializes an empty list named `paths` to store the extracted \"id\" values from the filenames.\n",
    "\n",
    "4. `for i in files:`: This loop iterates through each filename in the `files` list (from step 2).\n",
    "\n",
    "5. `paths.append(i.split(\".\")[0])`: It splits each filename by the dot (.) and takes the first part to get the \"id\" value. The \"id\" values are then appended to the `paths` list.\n",
    "\n",
    "6. `sentences = []`: Initializes an empty list named `sentences` to store the predicted sentences from the ASR (Automatic Speech Recognition) model.\n",
    "\n",
    "7. `for idx in tqdm(range(0, len(audio_paths), BATCH_SIZE)):`: This loop iterates through the `audio_paths` list in batches of size `BATCH_SIZE` (assuming `BATCH_SIZE` is defined elsewhere).\n",
    "\n",
    "8. `batch_paths = audio_paths[idx:idx + BATCH_SIZE]`: Extracts a batch of audio file paths from `audio_paths`.\n",
    "\n",
    "9. `sentences += batch_infer(batch_paths)`: Calls the `batch_infer` function with the current batch of audio file paths and adds the predicted sentences to the `sentences` list.\n",
    "\n",
    "10. `df = pd.DataFrame({\"id\": paths, \"sentence\": sentences})`: Creates a DataFrame (`df`) using the \"id\" values from step 5 and the predicted sentences obtained from ASR in step 9.\n",
    "\n",
    "11. `df.sentence = df.sentence.apply(lambda x: normalize(x))`: Applies the `normalize` function to each sentence in the \"sentence\" column of the DataFrame. This function normalizes Bengali sentences, as explained in a previous response.\n",
    "\n",
    "12. `df['id'] = df['id'].apply(lambda x: post_process_keys(x))`: Applies the `post_process_keys` function to each \"id\" value in the DataFrame. This function modifies the \"id\" values, as explained in a previous response.\n",
    "\n",
    "13. `return df`: The function returns the DataFrame `df`, which contains the \"id\" and \"sentence\" columns with the processed data.\n",
    "\n",
    "It is important to note that the provided code references `BATCH_SIZE`, which is not defined in the given snippet. For this code to work correctly, `BATCH_SIZE` should be defined earlier in the code or imported from an external module. Additionally, some parts of the code (e.g., the lines related to `files`) appear to be specific to a Kaggle environment and may need modification if used in a different context.\n",
    "\"\"\";"
   ]
  },
  {
   "cell_type": "code",
   "execution_count": 13,
   "id": "0e075240",
   "metadata": {
    "execution": {
     "iopub.execute_input": "2023-08-10T18:00:25.059219Z",
     "iopub.status.busy": "2023-08-10T18:00:25.058388Z",
     "iopub.status.idle": "2023-08-10T18:00:38.354732Z",
     "shell.execute_reply": "2023-08-10T18:00:38.353600Z"
    },
    "papermill": {
     "duration": 13.312389,
     "end_time": "2023-08-10T18:00:38.357470",
     "exception": false,
     "start_time": "2023-08-10T18:00:25.045081",
     "status": "completed"
    },
    "tags": []
   },
   "outputs": [
    {
     "data": {
      "application/vnd.jupyter.widget-view+json": {
       "model_id": "05647d6426d14f1e82e8efcbc5a1b169",
       "version_major": 2,
       "version_minor": 0
      },
      "text/plain": [
       "  0%|          | 0/3 [00:00<?, ?it/s]"
      ]
     },
     "metadata": {},
     "output_type": "display_data"
    },
    {
     "data": {
      "application/vnd.jupyter.widget-view+json": {
       "model_id": "9521b723ac1a4619b879b2b3e5b9f866",
       "version_major": 2,
       "version_minor": 0
      },
      "text/plain": [
       "  0%|          | 0/3 [00:00<?, ?it/s]"
      ]
     },
     "metadata": {},
     "output_type": "display_data"
    },
    {
     "data": {
      "text/html": [
       "<div>\n",
       "<style scoped>\n",
       "    .dataframe tbody tr th:only-of-type {\n",
       "        vertical-align: middle;\n",
       "    }\n",
       "\n",
       "    .dataframe tbody tr th {\n",
       "        vertical-align: top;\n",
       "    }\n",
       "\n",
       "    .dataframe thead th {\n",
       "        text-align: right;\n",
       "    }\n",
       "</style>\n",
       "<table border=\"1\" class=\"dataframe\">\n",
       "  <thead>\n",
       "    <tr style=\"text-align: right;\">\n",
       "      <th></th>\n",
       "      <th>id</th>\n",
       "      <th>sentence</th>\n",
       "    </tr>\n",
       "  </thead>\n",
       "  <tbody>\n",
       "    <tr>\n",
       "      <th>0</th>\n",
       "      <td>a9395e01ad21</td>\n",
       "      <td>কী কারণে তুমি এতাবৎ কাল পর্যন্ত এ দারুন দৈব দু...</td>\n",
       "    </tr>\n",
       "    <tr>\n",
       "      <th>1</th>\n",
       "      <td>0f3dac00655e</td>\n",
       "      <td>একটু বয়স হলে একটি বিদেশি।</td>\n",
       "    </tr>\n",
       "    <tr>\n",
       "      <th>2</th>\n",
       "      <td>bf36ea8b718d</td>\n",
       "      <td>এ কারণে সরকার নির্ধারিত হারে পরিবহন জনিত ক্ষতি...</td>\n",
       "    </tr>\n",
       "  </tbody>\n",
       "</table>\n",
       "</div>"
      ],
      "text/plain": [
       "             id                                           sentence\n",
       "0  a9395e01ad21  কী কারণে তুমি এতাবৎ কাল পর্যন্ত এ দারুন দৈব দু...\n",
       "1  0f3dac00655e                          একটু বয়স হলে একটি বিদেশি।\n",
       "2  bf36ea8b718d  এ কারণে সরকার নির্ধারিত হারে পরিবহন জনিত ক্ষতি..."
      ]
     },
     "execution_count": 13,
     "metadata": {},
     "output_type": "execute_result"
    }
   ],
   "source": [
    "submission = directory_infer(TEST_DIRECTORY)\n",
    "submission.head()"
   ]
  },
  {
   "cell_type": "code",
   "execution_count": 14,
   "id": "aeaa1131",
   "metadata": {
    "execution": {
     "iopub.execute_input": "2023-08-10T18:00:38.385569Z",
     "iopub.status.busy": "2023-08-10T18:00:38.384894Z",
     "iopub.status.idle": "2023-08-10T18:00:38.389979Z",
     "shell.execute_reply": "2023-08-10T18:00:38.388929Z"
    },
    "papermill": {
     "duration": 0.02121,
     "end_time": "2023-08-10T18:00:38.392317",
     "exception": false,
     "start_time": "2023-08-10T18:00:38.371107",
     "status": "completed"
    },
    "tags": []
   },
   "outputs": [],
   "source": [
    "def check(sentence):\n",
    "    if len(sentence)==0:\n",
    "        return '।'\n",
    "    return sentence"
   ]
  },
  {
   "cell_type": "code",
   "execution_count": 15,
   "id": "0b9c442c",
   "metadata": {
    "execution": {
     "iopub.execute_input": "2023-08-10T18:00:38.418875Z",
     "iopub.status.busy": "2023-08-10T18:00:38.418596Z",
     "iopub.status.idle": "2023-08-10T18:00:38.423605Z",
     "shell.execute_reply": "2023-08-10T18:00:38.422705Z"
    },
    "papermill": {
     "duration": 0.020693,
     "end_time": "2023-08-10T18:00:38.425633",
     "exception": false,
     "start_time": "2023-08-10T18:00:38.404940",
     "status": "completed"
    },
    "tags": []
   },
   "outputs": [],
   "source": [
    "submission.sentence = submission.sentence.apply(lambda x:check(x))"
   ]
  },
  {
   "cell_type": "code",
   "execution_count": 16,
   "id": "408c2c82",
   "metadata": {
    "execution": {
     "iopub.execute_input": "2023-08-10T18:00:38.452479Z",
     "iopub.status.busy": "2023-08-10T18:00:38.451694Z",
     "iopub.status.idle": "2023-08-10T18:00:38.460175Z",
     "shell.execute_reply": "2023-08-10T18:00:38.459305Z"
    },
    "papermill": {
     "duration": 0.024033,
     "end_time": "2023-08-10T18:00:38.462210",
     "exception": false,
     "start_time": "2023-08-10T18:00:38.438177",
     "status": "completed"
    },
    "tags": []
   },
   "outputs": [],
   "source": [
    "submission.to_csv(\"submission.csv\", index=False)"
   ]
  },
  {
   "cell_type": "markdown",
   "id": "192ee57e",
   "metadata": {
    "execution": {
     "iopub.execute_input": "2023-07-31T14:34:25.679144Z",
     "iopub.status.busy": "2023-07-31T14:34:25.678782Z",
     "iopub.status.idle": "2023-07-31T14:34:25.694089Z",
     "shell.execute_reply": "2023-07-31T14:34:25.69288Z",
     "shell.execute_reply.started": "2023-07-31T14:34:25.679113Z"
    },
    "papermill": {
     "duration": 0.012327,
     "end_time": "2023-08-10T18:00:38.487204",
     "exception": false,
     "start_time": "2023-08-10T18:00:38.474877",
     "status": "completed"
    },
    "tags": []
   },
   "source": [
    "##### This notebook is a fork of [this notebook](https://www.kaggle.com/code/mbmmurad/lb-0-506-inference-w-previous-comp-winner-s-model/notebook).\n",
    "\n",
    "💗This notebook has made some annotations on the original code. If it is useful to you, please click like. Thank you!💗"
   ]
  }
 ],
 "metadata": {
  "kernelspec": {
   "display_name": "Python 3",
   "language": "python",
   "name": "python3"
  },
  "language_info": {
   "codemirror_mode": {
    "name": "ipython",
    "version": 3
   },
   "file_extension": ".py",
   "mimetype": "text/x-python",
   "name": "python",
   "nbconvert_exporter": "python",
   "pygments_lexer": "ipython3",
   "version": "3.10.12"
  },
  "papermill": {
   "default_parameters": {},
   "duration": 256.238297,
   "end_time": "2023-08-10T18:00:41.622144",
   "environment_variables": {},
   "exception": null,
   "input_path": "__notebook__.ipynb",
   "output_path": "__notebook__.ipynb",
   "parameters": {},
   "start_time": "2023-08-10T17:56:25.383847",
   "version": "2.4.0"
  },
  "widgets": {
   "application/vnd.jupyter.widget-state+json": {
    "state": {
     "05647d6426d14f1e82e8efcbc5a1b169": {
      "model_module": "@jupyter-widgets/controls",
      "model_module_version": "1.5.0",
      "model_name": "HBoxModel",
      "state": {
       "_dom_classes": [],
       "_model_module": "@jupyter-widgets/controls",
       "_model_module_version": "1.5.0",
       "_model_name": "HBoxModel",
       "_view_count": null,
       "_view_module": "@jupyter-widgets/controls",
       "_view_module_version": "1.5.0",
       "_view_name": "HBoxView",
       "box_style": "",
       "children": [
        "IPY_MODEL_eee985008e3d4985809134fb5e217c5a",
        "IPY_MODEL_8486a722b22e4fe0a571ef236369c0f4",
        "IPY_MODEL_43d461c3aff94af598bb754409a96be7"
       ],
       "layout": "IPY_MODEL_34c26f10d4784456a8e21a881939f20e"
      }
     },
     "0ab0060efbb14de1946c7a6c461b3e13": {
      "model_module": "@jupyter-widgets/controls",
      "model_module_version": "1.5.0",
      "model_name": "HTMLModel",
      "state": {
       "_dom_classes": [],
       "_model_module": "@jupyter-widgets/controls",
       "_model_module_version": "1.5.0",
       "_model_name": "HTMLModel",
       "_view_count": null,
       "_view_module": "@jupyter-widgets/controls",
       "_view_module_version": "1.5.0",
       "_view_name": "HTMLView",
       "description": "",
       "description_tooltip": null,
       "layout": "IPY_MODEL_43a9f5ef4dee4debb74c6406420da720",
       "placeholder": "​",
       "style": "IPY_MODEL_16e190f2abb545b8b9dc07606f364b0d",
       "value": "100%"
      }
     },
     "1236d5778588423186162bbe154413aa": {
      "model_module": "@jupyter-widgets/base",
      "model_module_version": "1.2.0",
      "model_name": "LayoutModel",
      "state": {
       "_model_module": "@jupyter-widgets/base",
       "_model_module_version": "1.2.0",
       "_model_name": "LayoutModel",
       "_view_count": null,
       "_view_module": "@jupyter-widgets/base",
       "_view_module_version": "1.2.0",
       "_view_name": "LayoutView",
       "align_content": null,
       "align_items": null,
       "align_self": null,
       "border": null,
       "bottom": null,
       "display": null,
       "flex": null,
       "flex_flow": null,
       "grid_area": null,
       "grid_auto_columns": null,
       "grid_auto_flow": null,
       "grid_auto_rows": null,
       "grid_column": null,
       "grid_gap": null,
       "grid_row": null,
       "grid_template_areas": null,
       "grid_template_columns": null,
       "grid_template_rows": null,
       "height": null,
       "justify_content": null,
       "justify_items": null,
       "left": null,
       "margin": null,
       "max_height": null,
       "max_width": null,
       "min_height": null,
       "min_width": null,
       "object_fit": null,
       "object_position": null,
       "order": null,
       "overflow": null,
       "overflow_x": null,
       "overflow_y": null,
       "padding": null,
       "right": null,
       "top": null,
       "visibility": null,
       "width": null
      }
     },
     "16e190f2abb545b8b9dc07606f364b0d": {
      "model_module": "@jupyter-widgets/controls",
      "model_module_version": "1.5.0",
      "model_name": "DescriptionStyleModel",
      "state": {
       "_model_module": "@jupyter-widgets/controls",
       "_model_module_version": "1.5.0",
       "_model_name": "DescriptionStyleModel",
       "_view_count": null,
       "_view_module": "@jupyter-widgets/base",
       "_view_module_version": "1.2.0",
       "_view_name": "StyleView",
       "description_width": ""
      }
     },
     "1f78df2c6de94c02b3d7af47f6914325": {
      "model_module": "@jupyter-widgets/controls",
      "model_module_version": "1.5.0",
      "model_name": "ProgressStyleModel",
      "state": {
       "_model_module": "@jupyter-widgets/controls",
       "_model_module_version": "1.5.0",
       "_model_name": "ProgressStyleModel",
       "_view_count": null,
       "_view_module": "@jupyter-widgets/base",
       "_view_module_version": "1.2.0",
       "_view_name": "StyleView",
       "bar_color": null,
       "description_width": ""
      }
     },
     "28e9e6cc401b4ed3b5d815fc817f2bdb": {
      "model_module": "@jupyter-widgets/controls",
      "model_module_version": "1.5.0",
      "model_name": "DescriptionStyleModel",
      "state": {
       "_model_module": "@jupyter-widgets/controls",
       "_model_module_version": "1.5.0",
       "_model_name": "DescriptionStyleModel",
       "_view_count": null,
       "_view_module": "@jupyter-widgets/base",
       "_view_module_version": "1.2.0",
       "_view_name": "StyleView",
       "description_width": ""
      }
     },
     "34c26f10d4784456a8e21a881939f20e": {
      "model_module": "@jupyter-widgets/base",
      "model_module_version": "1.2.0",
      "model_name": "LayoutModel",
      "state": {
       "_model_module": "@jupyter-widgets/base",
       "_model_module_version": "1.2.0",
       "_model_name": "LayoutModel",
       "_view_count": null,
       "_view_module": "@jupyter-widgets/base",
       "_view_module_version": "1.2.0",
       "_view_name": "LayoutView",
       "align_content": null,
       "align_items": null,
       "align_self": null,
       "border": null,
       "bottom": null,
       "display": null,
       "flex": null,
       "flex_flow": null,
       "grid_area": null,
       "grid_auto_columns": null,
       "grid_auto_flow": null,
       "grid_auto_rows": null,
       "grid_column": null,
       "grid_gap": null,
       "grid_row": null,
       "grid_template_areas": null,
       "grid_template_columns": null,
       "grid_template_rows": null,
       "height": null,
       "justify_content": null,
       "justify_items": null,
       "left": null,
       "margin": null,
       "max_height": null,
       "max_width": null,
       "min_height": null,
       "min_width": null,
       "object_fit": null,
       "object_position": null,
       "order": null,
       "overflow": null,
       "overflow_x": null,
       "overflow_y": null,
       "padding": null,
       "right": null,
       "top": null,
       "visibility": null,
       "width": null
      }
     },
     "3e9be1dade0446d1801999d0e3d8f07f": {
      "model_module": "@jupyter-widgets/base",
      "model_module_version": "1.2.0",
      "model_name": "LayoutModel",
      "state": {
       "_model_module": "@jupyter-widgets/base",
       "_model_module_version": "1.2.0",
       "_model_name": "LayoutModel",
       "_view_count": null,
       "_view_module": "@jupyter-widgets/base",
       "_view_module_version": "1.2.0",
       "_view_name": "LayoutView",
       "align_content": null,
       "align_items": null,
       "align_self": null,
       "border": null,
       "bottom": null,
       "display": null,
       "flex": null,
       "flex_flow": null,
       "grid_area": null,
       "grid_auto_columns": null,
       "grid_auto_flow": null,
       "grid_auto_rows": null,
       "grid_column": null,
       "grid_gap": null,
       "grid_row": null,
       "grid_template_areas": null,
       "grid_template_columns": null,
       "grid_template_rows": null,
       "height": null,
       "justify_content": null,
       "justify_items": null,
       "left": null,
       "margin": null,
       "max_height": null,
       "max_width": null,
       "min_height": null,
       "min_width": null,
       "object_fit": null,
       "object_position": null,
       "order": null,
       "overflow": null,
       "overflow_x": null,
       "overflow_y": null,
       "padding": null,
       "right": null,
       "top": null,
       "visibility": null,
       "width": null
      }
     },
     "43a9f5ef4dee4debb74c6406420da720": {
      "model_module": "@jupyter-widgets/base",
      "model_module_version": "1.2.0",
      "model_name": "LayoutModel",
      "state": {
       "_model_module": "@jupyter-widgets/base",
       "_model_module_version": "1.2.0",
       "_model_name": "LayoutModel",
       "_view_count": null,
       "_view_module": "@jupyter-widgets/base",
       "_view_module_version": "1.2.0",
       "_view_name": "LayoutView",
       "align_content": null,
       "align_items": null,
       "align_self": null,
       "border": null,
       "bottom": null,
       "display": null,
       "flex": null,
       "flex_flow": null,
       "grid_area": null,
       "grid_auto_columns": null,
       "grid_auto_flow": null,
       "grid_auto_rows": null,
       "grid_column": null,
       "grid_gap": null,
       "grid_row": null,
       "grid_template_areas": null,
       "grid_template_columns": null,
       "grid_template_rows": null,
       "height": null,
       "justify_content": null,
       "justify_items": null,
       "left": null,
       "margin": null,
       "max_height": null,
       "max_width": null,
       "min_height": null,
       "min_width": null,
       "object_fit": null,
       "object_position": null,
       "order": null,
       "overflow": null,
       "overflow_x": null,
       "overflow_y": null,
       "padding": null,
       "right": null,
       "top": null,
       "visibility": null,
       "width": null
      }
     },
     "43d461c3aff94af598bb754409a96be7": {
      "model_module": "@jupyter-widgets/controls",
      "model_module_version": "1.5.0",
      "model_name": "HTMLModel",
      "state": {
       "_dom_classes": [],
       "_model_module": "@jupyter-widgets/controls",
       "_model_module_version": "1.5.0",
       "_model_name": "HTMLModel",
       "_view_count": null,
       "_view_module": "@jupyter-widgets/controls",
       "_view_module_version": "1.5.0",
       "_view_name": "HTMLView",
       "description": "",
       "description_tooltip": null,
       "layout": "IPY_MODEL_aebe5e9510d448f78698eca792116d93",
       "placeholder": "​",
       "style": "IPY_MODEL_ea7ce54280b74abf9a1cfbc170b7b6df",
       "value": " 3/3 [00:00&lt;00:00, 216.29it/s]"
      }
     },
     "6085bd7273d84607b1d80fabc4c2899a": {
      "model_module": "@jupyter-widgets/controls",
      "model_module_version": "1.5.0",
      "model_name": "HTMLModel",
      "state": {
       "_dom_classes": [],
       "_model_module": "@jupyter-widgets/controls",
       "_model_module_version": "1.5.0",
       "_model_name": "HTMLModel",
       "_view_count": null,
       "_view_module": "@jupyter-widgets/controls",
       "_view_module_version": "1.5.0",
       "_view_name": "HTMLView",
       "description": "",
       "description_tooltip": null,
       "layout": "IPY_MODEL_1236d5778588423186162bbe154413aa",
       "placeholder": "​",
       "style": "IPY_MODEL_28e9e6cc401b4ed3b5d815fc817f2bdb",
       "value": " 3/3 [00:13&lt;00:00,  3.45s/it]"
      }
     },
     "67cd6ad365fc4867be7c1fdbe32c935b": {
      "model_module": "@jupyter-widgets/controls",
      "model_module_version": "1.5.0",
      "model_name": "DescriptionStyleModel",
      "state": {
       "_model_module": "@jupyter-widgets/controls",
       "_model_module_version": "1.5.0",
       "_model_name": "DescriptionStyleModel",
       "_view_count": null,
       "_view_module": "@jupyter-widgets/base",
       "_view_module_version": "1.2.0",
       "_view_name": "StyleView",
       "description_width": ""
      }
     },
     "798b0b2e3a6b48898d09e8d8e4b91754": {
      "model_module": "@jupyter-widgets/controls",
      "model_module_version": "1.5.0",
      "model_name": "FloatProgressModel",
      "state": {
       "_dom_classes": [],
       "_model_module": "@jupyter-widgets/controls",
       "_model_module_version": "1.5.0",
       "_model_name": "FloatProgressModel",
       "_view_count": null,
       "_view_module": "@jupyter-widgets/controls",
       "_view_module_version": "1.5.0",
       "_view_name": "ProgressView",
       "bar_style": "success",
       "description": "",
       "description_tooltip": null,
       "layout": "IPY_MODEL_a6047e270a1644418dfdc3fb0121890e",
       "max": 3.0,
       "min": 0.0,
       "orientation": "horizontal",
       "style": "IPY_MODEL_f699c72b5723451a8bbe58e526b01e08",
       "value": 3.0
      }
     },
     "83086350ba2746f5b40ce0ef3003d038": {
      "model_module": "@jupyter-widgets/base",
      "model_module_version": "1.2.0",
      "model_name": "LayoutModel",
      "state": {
       "_model_module": "@jupyter-widgets/base",
       "_model_module_version": "1.2.0",
       "_model_name": "LayoutModel",
       "_view_count": null,
       "_view_module": "@jupyter-widgets/base",
       "_view_module_version": "1.2.0",
       "_view_name": "LayoutView",
       "align_content": null,
       "align_items": null,
       "align_self": null,
       "border": null,
       "bottom": null,
       "display": null,
       "flex": null,
       "flex_flow": null,
       "grid_area": null,
       "grid_auto_columns": null,
       "grid_auto_flow": null,
       "grid_auto_rows": null,
       "grid_column": null,
       "grid_gap": null,
       "grid_row": null,
       "grid_template_areas": null,
       "grid_template_columns": null,
       "grid_template_rows": null,
       "height": null,
       "justify_content": null,
       "justify_items": null,
       "left": null,
       "margin": null,
       "max_height": null,
       "max_width": null,
       "min_height": null,
       "min_width": null,
       "object_fit": null,
       "object_position": null,
       "order": null,
       "overflow": null,
       "overflow_x": null,
       "overflow_y": null,
       "padding": null,
       "right": null,
       "top": null,
       "visibility": null,
       "width": null
      }
     },
     "8486a722b22e4fe0a571ef236369c0f4": {
      "model_module": "@jupyter-widgets/controls",
      "model_module_version": "1.5.0",
      "model_name": "FloatProgressModel",
      "state": {
       "_dom_classes": [],
       "_model_module": "@jupyter-widgets/controls",
       "_model_module_version": "1.5.0",
       "_model_name": "FloatProgressModel",
       "_view_count": null,
       "_view_module": "@jupyter-widgets/controls",
       "_view_module_version": "1.5.0",
       "_view_name": "ProgressView",
       "bar_style": "success",
       "description": "",
       "description_tooltip": null,
       "layout": "IPY_MODEL_3e9be1dade0446d1801999d0e3d8f07f",
       "max": 3.0,
       "min": 0.0,
       "orientation": "horizontal",
       "style": "IPY_MODEL_1f78df2c6de94c02b3d7af47f6914325",
       "value": 3.0
      }
     },
     "9521b723ac1a4619b879b2b3e5b9f866": {
      "model_module": "@jupyter-widgets/controls",
      "model_module_version": "1.5.0",
      "model_name": "HBoxModel",
      "state": {
       "_dom_classes": [],
       "_model_module": "@jupyter-widgets/controls",
       "_model_module_version": "1.5.0",
       "_model_name": "HBoxModel",
       "_view_count": null,
       "_view_module": "@jupyter-widgets/controls",
       "_view_module_version": "1.5.0",
       "_view_name": "HBoxView",
       "box_style": "",
       "children": [
        "IPY_MODEL_0ab0060efbb14de1946c7a6c461b3e13",
        "IPY_MODEL_798b0b2e3a6b48898d09e8d8e4b91754",
        "IPY_MODEL_6085bd7273d84607b1d80fabc4c2899a"
       ],
       "layout": "IPY_MODEL_d22d5b233e5b46928f7dda52d697ed98"
      }
     },
     "a6047e270a1644418dfdc3fb0121890e": {
      "model_module": "@jupyter-widgets/base",
      "model_module_version": "1.2.0",
      "model_name": "LayoutModel",
      "state": {
       "_model_module": "@jupyter-widgets/base",
       "_model_module_version": "1.2.0",
       "_model_name": "LayoutModel",
       "_view_count": null,
       "_view_module": "@jupyter-widgets/base",
       "_view_module_version": "1.2.0",
       "_view_name": "LayoutView",
       "align_content": null,
       "align_items": null,
       "align_self": null,
       "border": null,
       "bottom": null,
       "display": null,
       "flex": null,
       "flex_flow": null,
       "grid_area": null,
       "grid_auto_columns": null,
       "grid_auto_flow": null,
       "grid_auto_rows": null,
       "grid_column": null,
       "grid_gap": null,
       "grid_row": null,
       "grid_template_areas": null,
       "grid_template_columns": null,
       "grid_template_rows": null,
       "height": null,
       "justify_content": null,
       "justify_items": null,
       "left": null,
       "margin": null,
       "max_height": null,
       "max_width": null,
       "min_height": null,
       "min_width": null,
       "object_fit": null,
       "object_position": null,
       "order": null,
       "overflow": null,
       "overflow_x": null,
       "overflow_y": null,
       "padding": null,
       "right": null,
       "top": null,
       "visibility": null,
       "width": null
      }
     },
     "aebe5e9510d448f78698eca792116d93": {
      "model_module": "@jupyter-widgets/base",
      "model_module_version": "1.2.0",
      "model_name": "LayoutModel",
      "state": {
       "_model_module": "@jupyter-widgets/base",
       "_model_module_version": "1.2.0",
       "_model_name": "LayoutModel",
       "_view_count": null,
       "_view_module": "@jupyter-widgets/base",
       "_view_module_version": "1.2.0",
       "_view_name": "LayoutView",
       "align_content": null,
       "align_items": null,
       "align_self": null,
       "border": null,
       "bottom": null,
       "display": null,
       "flex": null,
       "flex_flow": null,
       "grid_area": null,
       "grid_auto_columns": null,
       "grid_auto_flow": null,
       "grid_auto_rows": null,
       "grid_column": null,
       "grid_gap": null,
       "grid_row": null,
       "grid_template_areas": null,
       "grid_template_columns": null,
       "grid_template_rows": null,
       "height": null,
       "justify_content": null,
       "justify_items": null,
       "left": null,
       "margin": null,
       "max_height": null,
       "max_width": null,
       "min_height": null,
       "min_width": null,
       "object_fit": null,
       "object_position": null,
       "order": null,
       "overflow": null,
       "overflow_x": null,
       "overflow_y": null,
       "padding": null,
       "right": null,
       "top": null,
       "visibility": null,
       "width": null
      }
     },
     "d22d5b233e5b46928f7dda52d697ed98": {
      "model_module": "@jupyter-widgets/base",
      "model_module_version": "1.2.0",
      "model_name": "LayoutModel",
      "state": {
       "_model_module": "@jupyter-widgets/base",
       "_model_module_version": "1.2.0",
       "_model_name": "LayoutModel",
       "_view_count": null,
       "_view_module": "@jupyter-widgets/base",
       "_view_module_version": "1.2.0",
       "_view_name": "LayoutView",
       "align_content": null,
       "align_items": null,
       "align_self": null,
       "border": null,
       "bottom": null,
       "display": null,
       "flex": null,
       "flex_flow": null,
       "grid_area": null,
       "grid_auto_columns": null,
       "grid_auto_flow": null,
       "grid_auto_rows": null,
       "grid_column": null,
       "grid_gap": null,
       "grid_row": null,
       "grid_template_areas": null,
       "grid_template_columns": null,
       "grid_template_rows": null,
       "height": null,
       "justify_content": null,
       "justify_items": null,
       "left": null,
       "margin": null,
       "max_height": null,
       "max_width": null,
       "min_height": null,
       "min_width": null,
       "object_fit": null,
       "object_position": null,
       "order": null,
       "overflow": null,
       "overflow_x": null,
       "overflow_y": null,
       "padding": null,
       "right": null,
       "top": null,
       "visibility": null,
       "width": null
      }
     },
     "ea7ce54280b74abf9a1cfbc170b7b6df": {
      "model_module": "@jupyter-widgets/controls",
      "model_module_version": "1.5.0",
      "model_name": "DescriptionStyleModel",
      "state": {
       "_model_module": "@jupyter-widgets/controls",
       "_model_module_version": "1.5.0",
       "_model_name": "DescriptionStyleModel",
       "_view_count": null,
       "_view_module": "@jupyter-widgets/base",
       "_view_module_version": "1.2.0",
       "_view_name": "StyleView",
       "description_width": ""
      }
     },
     "eee985008e3d4985809134fb5e217c5a": {
      "model_module": "@jupyter-widgets/controls",
      "model_module_version": "1.5.0",
      "model_name": "HTMLModel",
      "state": {
       "_dom_classes": [],
       "_model_module": "@jupyter-widgets/controls",
       "_model_module_version": "1.5.0",
       "_model_name": "HTMLModel",
       "_view_count": null,
       "_view_module": "@jupyter-widgets/controls",
       "_view_module_version": "1.5.0",
       "_view_name": "HTMLView",
       "description": "",
       "description_tooltip": null,
       "layout": "IPY_MODEL_83086350ba2746f5b40ce0ef3003d038",
       "placeholder": "​",
       "style": "IPY_MODEL_67cd6ad365fc4867be7c1fdbe32c935b",
       "value": "100%"
      }
     },
     "f699c72b5723451a8bbe58e526b01e08": {
      "model_module": "@jupyter-widgets/controls",
      "model_module_version": "1.5.0",
      "model_name": "ProgressStyleModel",
      "state": {
       "_model_module": "@jupyter-widgets/controls",
       "_model_module_version": "1.5.0",
       "_model_name": "ProgressStyleModel",
       "_view_count": null,
       "_view_module": "@jupyter-widgets/base",
       "_view_module_version": "1.2.0",
       "_view_name": "StyleView",
       "bar_color": null,
       "description_width": ""
      }
     }
    },
    "version_major": 2,
    "version_minor": 0
   }
  }
 },
 "nbformat": 4,
 "nbformat_minor": 5
}
